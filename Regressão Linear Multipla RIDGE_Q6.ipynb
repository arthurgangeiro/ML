{
 "cells": [
  {
   "cell_type": "code",
   "execution_count": 17,
   "metadata": {},
   "outputs": [],
   "source": [
    "# Multiple Linear Regression\n",
    "\n",
    "# Importing the libraries\n",
    "import numpy as np\n",
    "import matplotlib.pyplot as plt\n",
    "import pandas as pd\n",
    "from sklearn.metrics import mean_squared_error, r2_score\n",
    "from sklearn.linear_model import Ridge\n",
    "from sklearn.metrics import make_scorer\n",
    "from sklearn.model_selection import train_test_split, GridSearchCV\n",
    "\n"
   ]
  },
  {
   "cell_type": "code",
   "execution_count": 2,
   "metadata": {},
   "outputs": [],
   "source": [
    "# Importing the dataset\n",
    "dataset = pd.read_csv('C:\\\\Users\\\\Fabiel Fernando\\\\Desktop\\\\PROVA\\\\regressao_Q6.csv')"
   ]
  },
  {
   "cell_type": "code",
   "execution_count": 3,
   "metadata": {},
   "outputs": [
    {
     "data": {
      "text/html": [
       "<div>\n",
       "<style scoped>\n",
       "    .dataframe tbody tr th:only-of-type {\n",
       "        vertical-align: middle;\n",
       "    }\n",
       "\n",
       "    .dataframe tbody tr th {\n",
       "        vertical-align: top;\n",
       "    }\n",
       "\n",
       "    .dataframe thead th {\n",
       "        text-align: right;\n",
       "    }\n",
       "</style>\n",
       "<table border=\"1\" class=\"dataframe\">\n",
       "  <thead>\n",
       "    <tr style=\"text-align: right;\">\n",
       "      <th></th>\n",
       "      <th>x0</th>\n",
       "      <th>x1</th>\n",
       "      <th>x2</th>\n",
       "      <th>x3</th>\n",
       "      <th>x4</th>\n",
       "      <th>x5</th>\n",
       "      <th>x6</th>\n",
       "      <th>x7</th>\n",
       "      <th>x8</th>\n",
       "      <th>x9</th>\n",
       "      <th>target</th>\n",
       "    </tr>\n",
       "  </thead>\n",
       "  <tbody>\n",
       "    <tr>\n",
       "      <th>0</th>\n",
       "      <td>-0.351837</td>\n",
       "      <td>0.719462</td>\n",
       "      <td>0.862522</td>\n",
       "      <td>-1.131049</td>\n",
       "      <td>0.744903</td>\n",
       "      <td>0.532177</td>\n",
       "      <td>1.595572</td>\n",
       "      <td>0.607174</td>\n",
       "      <td>1.306696</td>\n",
       "      <td>0.450022</td>\n",
       "      <td>170.471696</td>\n",
       "    </tr>\n",
       "    <tr>\n",
       "      <th>1</th>\n",
       "      <td>-0.309565</td>\n",
       "      <td>0.786033</td>\n",
       "      <td>1.175365</td>\n",
       "      <td>-1.149287</td>\n",
       "      <td>0.318301</td>\n",
       "      <td>0.620987</td>\n",
       "      <td>1.470917</td>\n",
       "      <td>0.568968</td>\n",
       "      <td>1.334661</td>\n",
       "      <td>-0.267235</td>\n",
       "      <td>151.023999</td>\n",
       "    </tr>\n",
       "    <tr>\n",
       "      <th>2</th>\n",
       "      <td>-1.808729</td>\n",
       "      <td>-0.581660</td>\n",
       "      <td>-0.052200</td>\n",
       "      <td>-2.411602</td>\n",
       "      <td>0.171517</td>\n",
       "      <td>-1.174627</td>\n",
       "      <td>0.010317</td>\n",
       "      <td>-0.677372</td>\n",
       "      <td>0.841643</td>\n",
       "      <td>-1.186626</td>\n",
       "      <td>-268.606299</td>\n",
       "    </tr>\n",
       "    <tr>\n",
       "      <th>3</th>\n",
       "      <td>-0.386627</td>\n",
       "      <td>0.991724</td>\n",
       "      <td>0.234672</td>\n",
       "      <td>-0.431101</td>\n",
       "      <td>-0.160947</td>\n",
       "      <td>0.521185</td>\n",
       "      <td>1.957080</td>\n",
       "      <td>0.651099</td>\n",
       "      <td>0.933481</td>\n",
       "      <td>1.280705</td>\n",
       "      <td>180.737656</td>\n",
       "    </tr>\n",
       "    <tr>\n",
       "      <th>4</th>\n",
       "      <td>-0.879158</td>\n",
       "      <td>0.106556</td>\n",
       "      <td>0.775418</td>\n",
       "      <td>-1.046543</td>\n",
       "      <td>0.097267</td>\n",
       "      <td>-0.757026</td>\n",
       "      <td>1.050900</td>\n",
       "      <td>-0.262257</td>\n",
       "      <td>1.383563</td>\n",
       "      <td>-1.152509</td>\n",
       "      <td>-38.200673</td>\n",
       "    </tr>\n",
       "  </tbody>\n",
       "</table>\n",
       "</div>"
      ],
      "text/plain": [
       "         x0        x1        x2        x3        x4        x5        x6  \\\n",
       "0 -0.351837  0.719462  0.862522 -1.131049  0.744903  0.532177  1.595572   \n",
       "1 -0.309565  0.786033  1.175365 -1.149287  0.318301  0.620987  1.470917   \n",
       "2 -1.808729 -0.581660 -0.052200 -2.411602  0.171517 -1.174627  0.010317   \n",
       "3 -0.386627  0.991724  0.234672 -0.431101 -0.160947  0.521185  1.957080   \n",
       "4 -0.879158  0.106556  0.775418 -1.046543  0.097267 -0.757026  1.050900   \n",
       "\n",
       "         x7        x8        x9      target  \n",
       "0  0.607174  1.306696  0.450022  170.471696  \n",
       "1  0.568968  1.334661 -0.267235  151.023999  \n",
       "2 -0.677372  0.841643 -1.186626 -268.606299  \n",
       "3  0.651099  0.933481  1.280705  180.737656  \n",
       "4 -0.262257  1.383563 -1.152509  -38.200673  "
      ]
     },
     "execution_count": 3,
     "metadata": {},
     "output_type": "execute_result"
    }
   ],
   "source": [
    "dataset.head()"
   ]
  },
  {
   "cell_type": "code",
   "execution_count": 4,
   "metadata": {},
   "outputs": [],
   "source": [
    "X = dataset.iloc[:, 0:10].values\n",
    "#pd.DataFrame(X).head()\n",
    "y = dataset.iloc[:, 10:11].values\n",
    "#pd.DataFrame(y).head()"
   ]
  },
  {
   "cell_type": "code",
   "execution_count": null,
   "metadata": {},
   "outputs": [],
   "source": []
  },
  {
   "cell_type": "code",
   "execution_count": 5,
   "metadata": {},
   "outputs": [],
   "source": [
    "from sklearn.model_selection import StratifiedKFold, KFold, LeaveOneOut\n",
    "cv_kfold =KFold(n_splits=5, shuffle=False, random_state=None)\n",
    "cv_loo = LeaveOneOut()"
   ]
  },
  {
   "cell_type": "code",
   "execution_count": 6,
   "metadata": {},
   "outputs": [],
   "source": [
    "parameters = {\n",
    "                #'fit_intercept':[True,False], 'normalize':[True,False], 'copy_X':[True, False]\n",
    "             }"
   ]
  },
  {
   "cell_type": "code",
   "execution_count": 18,
   "metadata": {},
   "outputs": [],
   "source": [
    "ridge = Ridge(alpha=1.7)\n",
    "cv_ridge = GridSearchCV(estimator = ridge, \n",
    "                          param_grid = parameters,\n",
    "                          scoring= make_scorer(mean_squared_error),\n",
    "                          return_train_score=True,\n",
    "                          cv=cv_loo)"
   ]
  },
  {
   "cell_type": "code",
   "execution_count": 19,
   "metadata": {},
   "outputs": [],
   "source": [
    "gridcv_ridge = cv_ridge.fit(X, y)"
   ]
  },
  {
   "cell_type": "code",
   "execution_count": 20,
   "metadata": {},
   "outputs": [],
   "source": [
    "modelo_ridge = gridcv_ridge.best_estimator_"
   ]
  },
  {
   "cell_type": "code",
   "execution_count": 21,
   "metadata": {},
   "outputs": [],
   "source": [
    "y_pred_train =cv_ridge.predict(X)"
   ]
  },
  {
   "cell_type": "code",
   "execution_count": 22,
   "metadata": {},
   "outputs": [
    {
     "name": "stdout",
     "output_type": "stream",
     "text": [
      "Root Mean Squared Error: 27.43187040610632\n"
     ]
    }
   ],
   "source": [
    "# RMSE conjunto de treino\n",
    "rmse = np.sqrt(mean_squared_error(y, y_pred_train))\n",
    "print(\"Root Mean Squared Error: {}\".format(rmse))"
   ]
  },
  {
   "cell_type": "code",
   "execution_count": 23,
   "metadata": {},
   "outputs": [
    {
     "data": {
      "text/html": [
       "<div>\n",
       "<style scoped>\n",
       "    .dataframe tbody tr th:only-of-type {\n",
       "        vertical-align: middle;\n",
       "    }\n",
       "\n",
       "    .dataframe tbody tr th {\n",
       "        vertical-align: top;\n",
       "    }\n",
       "\n",
       "    .dataframe thead th {\n",
       "        text-align: right;\n",
       "    }\n",
       "</style>\n",
       "<table border=\"1\" class=\"dataframe\">\n",
       "  <thead>\n",
       "    <tr style=\"text-align: right;\">\n",
       "      <th></th>\n",
       "      <th>mean_fit_time</th>\n",
       "      <th>std_fit_time</th>\n",
       "      <th>mean_score_time</th>\n",
       "      <th>std_score_time</th>\n",
       "      <th>params</th>\n",
       "      <th>split0_test_score</th>\n",
       "      <th>split1_test_score</th>\n",
       "      <th>split2_test_score</th>\n",
       "      <th>split3_test_score</th>\n",
       "      <th>split4_test_score</th>\n",
       "      <th>...</th>\n",
       "      <th>split1092_train_score</th>\n",
       "      <th>split1093_train_score</th>\n",
       "      <th>split1094_train_score</th>\n",
       "      <th>split1095_train_score</th>\n",
       "      <th>split1096_train_score</th>\n",
       "      <th>split1097_train_score</th>\n",
       "      <th>split1098_train_score</th>\n",
       "      <th>split1099_train_score</th>\n",
       "      <th>mean_train_score</th>\n",
       "      <th>std_train_score</th>\n",
       "    </tr>\n",
       "  </thead>\n",
       "  <tbody>\n",
       "    <tr>\n",
       "      <th>0</th>\n",
       "      <td>0.001307</td>\n",
       "      <td>0.004326</td>\n",
       "      <td>0.000256</td>\n",
       "      <td>0.001982</td>\n",
       "      <td>{}</td>\n",
       "      <td>0.240761</td>\n",
       "      <td>0.063489</td>\n",
       "      <td>2899.704614</td>\n",
       "      <td>1784.994607</td>\n",
       "      <td>1287.319893</td>\n",
       "      <td>...</td>\n",
       "      <td>752.594038</td>\n",
       "      <td>752.382322</td>\n",
       "      <td>746.19801</td>\n",
       "      <td>751.348233</td>\n",
       "      <td>751.146358</td>\n",
       "      <td>753.176689</td>\n",
       "      <td>753.188155</td>\n",
       "      <td>752.821925</td>\n",
       "      <td>752.500781</td>\n",
       "      <td>0.973527</td>\n",
       "    </tr>\n",
       "  </tbody>\n",
       "</table>\n",
       "<p>1 rows × 2210 columns</p>\n",
       "</div>"
      ],
      "text/plain": [
       "   mean_fit_time  std_fit_time  mean_score_time  std_score_time params  \\\n",
       "0       0.001307      0.004326         0.000256        0.001982     {}   \n",
       "\n",
       "   split0_test_score  split1_test_score  split2_test_score  split3_test_score  \\\n",
       "0           0.240761           0.063489        2899.704614        1784.994607   \n",
       "\n",
       "   split4_test_score       ...         split1092_train_score  \\\n",
       "0        1287.319893       ...                    752.594038   \n",
       "\n",
       "   split1093_train_score  split1094_train_score  split1095_train_score  \\\n",
       "0             752.382322              746.19801             751.348233   \n",
       "\n",
       "   split1096_train_score  split1097_train_score  split1098_train_score  \\\n",
       "0             751.146358             753.176689             753.188155   \n",
       "\n",
       "   split1099_train_score  mean_train_score  std_train_score  \n",
       "0             752.821925        752.500781         0.973527  \n",
       "\n",
       "[1 rows x 2210 columns]"
      ]
     },
     "execution_count": 23,
     "metadata": {},
     "output_type": "execute_result"
    }
   ],
   "source": [
    "result = pd.DataFrame(gridcv_ridge.cv_results_)\n",
    "result"
   ]
  },
  {
   "cell_type": "code",
   "execution_count": 24,
   "metadata": {},
   "outputs": [
    {
     "data": {
      "text/plain": [
       "0    752.500781\n",
       "Name: mean_train_score, dtype: float64"
      ]
     },
     "execution_count": 24,
     "metadata": {},
     "output_type": "execute_result"
    }
   ],
   "source": [
    "result['mean_train_score']"
   ]
  },
  {
   "cell_type": "code",
   "execution_count": 25,
   "metadata": {},
   "outputs": [
    {
     "data": {
      "text/plain": [
       "0    767.335244\n",
       "Name: mean_test_score, dtype: float64"
      ]
     },
     "execution_count": 25,
     "metadata": {},
     "output_type": "execute_result"
    }
   ],
   "source": [
    "result['mean_test_score']"
   ]
  },
  {
   "cell_type": "code",
   "execution_count": 26,
   "metadata": {},
   "outputs": [
    {
     "data": {
      "text/plain": [
       "27.4317476840248"
      ]
     },
     "execution_count": 26,
     "metadata": {},
     "output_type": "execute_result"
    }
   ],
   "source": [
    "from math import sqrt\n",
    "rmse_train = sqrt(752.500781)\n",
    "rmse_train"
   ]
  },
  {
   "cell_type": "code",
   "execution_count": 27,
   "metadata": {},
   "outputs": [
    {
     "data": {
      "text/plain": [
       "27.70081666666165"
      ]
     },
     "execution_count": 27,
     "metadata": {},
     "output_type": "execute_result"
    }
   ],
   "source": [
    "rmse_test = sqrt(767.335244)\n",
    "rmse_test"
   ]
  },
  {
   "cell_type": "code",
   "execution_count": 28,
   "metadata": {},
   "outputs": [
    {
     "name": "stdout",
     "output_type": "stream",
     "text": [
      "O valor médio do RMSE para a base de treino é 27.4317476840248 e para base de teste 27.70081666666165\n"
     ]
    }
   ],
   "source": [
    "print('O valor médio do RMSE para a base de treino é {} e para base de teste {}'.format(rmse_train, rmse_test))"
   ]
  },
  {
   "cell_type": "code",
   "execution_count": null,
   "metadata": {},
   "outputs": [],
   "source": []
  }
 ],
 "metadata": {
  "kernelspec": {
   "display_name": "Python 3",
   "language": "python",
   "name": "python3"
  },
  "language_info": {
   "codemirror_mode": {
    "name": "ipython",
    "version": 3
   },
   "file_extension": ".py",
   "mimetype": "text/x-python",
   "name": "python",
   "nbconvert_exporter": "python",
   "pygments_lexer": "ipython3",
   "version": "3.6.5"
  }
 },
 "nbformat": 4,
 "nbformat_minor": 2
}
